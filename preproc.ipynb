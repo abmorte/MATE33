{
  "cells": [
    {
      "cell_type": "markdown",
      "metadata": {
        "id": "view-in-github",
        "colab_type": "text"
      },
      "source": [
        "<a href=\"https://colab.research.google.com/github/abmorte/MATE33/blob/main/preproc.ipynb\" target=\"_parent\"><img src=\"https://colab.research.google.com/assets/colab-badge.svg\" alt=\"Open In Colab\"/></a>"
      ]
    },
    {
      "cell_type": "markdown",
      "metadata": {
        "id": "i2L7_yNmeN1a"
      },
      "source": [
        "### Pré-processamento dados estruturados: toy"
      ]
    },
    {
      "cell_type": "code",
      "execution_count": 12,
      "metadata": {
        "id": "dF6acFEmeN1c"
      },
      "outputs": [],
      "source": [
        "import numpy as np # array and vector manipulation\n",
        "import pandas as pd # data manipulation\n",
        "import seaborn as sns\n",
        "from sklearn.preprocessing import StandardScaler\n",
        "from matplotlib.cbook import boxplot_stats\n",
        "import matplotlib.pyplot as plt\n",
        "from sklearn.preprocessing import LabelEncoder\n",
        "from sklearn.preprocessing import OneHotEncoder\n",
        "from joblib import Parallel, delayed\n",
        "import multiprocessing as mp\n",
        "from google.colab import files"
      ]
    },
    {
      "cell_type": "code",
      "execution_count": 13,
      "metadata": {
        "colab": {
          "base_uri": "https://localhost:8080/",
          "height": 424
        },
        "id": "43PJ7cp_eN1e",
        "outputId": "7ee10480-0ac6-4cfd-8bd3-400dbf3dd884"
      },
      "outputs": [
        {
          "output_type": "execute_result",
          "data": {
            "text/plain": [
              "           cpf sexo  salario estado  poupanca  altura    peso  \\\n",
              "0    741132012    M  5124.00     MA  -1000.00    1.93   85.62   \n",
              "1    246313939    F  4772.45     SP  15012.90    1.84   99.12   \n",
              "2    431872706    F  5001.80     BA      0.00    1.66  104.39   \n",
              "3    127070574    F  5279.32     DF      0.00    1.73   72.57   \n",
              "4    620680270    M  5327.52     RS   8172.68    2.05   97.89   \n",
              "..         ...  ...      ...    ...       ...     ...     ...   \n",
              "205  132343102    M  4610.80     SC  15116.02    1.62  103.20   \n",
              "206  792789534    M  5489.12     RN  14428.67    1.44   56.38   \n",
              "207  813971610    M  4525.37     PB  -1000.00    1.56  129.89   \n",
              "208  839747002    M  4297.15     MA   5542.76    2.10  106.36   \n",
              "209  844339630    F  4601.64     RS      0.00    2.08  106.92   \n",
              "\n",
              "     total.emprestimo financiamento  \n",
              "0                0.00             S  \n",
              "1                 NaN             S  \n",
              "2                0.00             N  \n",
              "3                0.00             S  \n",
              "4                0.00             S  \n",
              "..                ...           ...  \n",
              "205            461.08             N  \n",
              "206              0.00             N  \n",
              "207            452.54             N  \n",
              "208              0.00             N  \n",
              "209            460.16             N  \n",
              "\n",
              "[210 rows x 9 columns]"
            ],
            "text/html": [
              "\n",
              "  <div id=\"df-07371a90-f3a8-4dac-a5ab-4b27b1a92f41\">\n",
              "    <div class=\"colab-df-container\">\n",
              "      <div>\n",
              "<style scoped>\n",
              "    .dataframe tbody tr th:only-of-type {\n",
              "        vertical-align: middle;\n",
              "    }\n",
              "\n",
              "    .dataframe tbody tr th {\n",
              "        vertical-align: top;\n",
              "    }\n",
              "\n",
              "    .dataframe thead th {\n",
              "        text-align: right;\n",
              "    }\n",
              "</style>\n",
              "<table border=\"1\" class=\"dataframe\">\n",
              "  <thead>\n",
              "    <tr style=\"text-align: right;\">\n",
              "      <th></th>\n",
              "      <th>cpf</th>\n",
              "      <th>sexo</th>\n",
              "      <th>salario</th>\n",
              "      <th>estado</th>\n",
              "      <th>poupanca</th>\n",
              "      <th>altura</th>\n",
              "      <th>peso</th>\n",
              "      <th>total.emprestimo</th>\n",
              "      <th>financiamento</th>\n",
              "    </tr>\n",
              "  </thead>\n",
              "  <tbody>\n",
              "    <tr>\n",
              "      <th>0</th>\n",
              "      <td>741132012</td>\n",
              "      <td>M</td>\n",
              "      <td>5124.00</td>\n",
              "      <td>MA</td>\n",
              "      <td>-1000.00</td>\n",
              "      <td>1.93</td>\n",
              "      <td>85.62</td>\n",
              "      <td>0.00</td>\n",
              "      <td>S</td>\n",
              "    </tr>\n",
              "    <tr>\n",
              "      <th>1</th>\n",
              "      <td>246313939</td>\n",
              "      <td>F</td>\n",
              "      <td>4772.45</td>\n",
              "      <td>SP</td>\n",
              "      <td>15012.90</td>\n",
              "      <td>1.84</td>\n",
              "      <td>99.12</td>\n",
              "      <td>NaN</td>\n",
              "      <td>S</td>\n",
              "    </tr>\n",
              "    <tr>\n",
              "      <th>2</th>\n",
              "      <td>431872706</td>\n",
              "      <td>F</td>\n",
              "      <td>5001.80</td>\n",
              "      <td>BA</td>\n",
              "      <td>0.00</td>\n",
              "      <td>1.66</td>\n",
              "      <td>104.39</td>\n",
              "      <td>0.00</td>\n",
              "      <td>N</td>\n",
              "    </tr>\n",
              "    <tr>\n",
              "      <th>3</th>\n",
              "      <td>127070574</td>\n",
              "      <td>F</td>\n",
              "      <td>5279.32</td>\n",
              "      <td>DF</td>\n",
              "      <td>0.00</td>\n",
              "      <td>1.73</td>\n",
              "      <td>72.57</td>\n",
              "      <td>0.00</td>\n",
              "      <td>S</td>\n",
              "    </tr>\n",
              "    <tr>\n",
              "      <th>4</th>\n",
              "      <td>620680270</td>\n",
              "      <td>M</td>\n",
              "      <td>5327.52</td>\n",
              "      <td>RS</td>\n",
              "      <td>8172.68</td>\n",
              "      <td>2.05</td>\n",
              "      <td>97.89</td>\n",
              "      <td>0.00</td>\n",
              "      <td>S</td>\n",
              "    </tr>\n",
              "    <tr>\n",
              "      <th>...</th>\n",
              "      <td>...</td>\n",
              "      <td>...</td>\n",
              "      <td>...</td>\n",
              "      <td>...</td>\n",
              "      <td>...</td>\n",
              "      <td>...</td>\n",
              "      <td>...</td>\n",
              "      <td>...</td>\n",
              "      <td>...</td>\n",
              "    </tr>\n",
              "    <tr>\n",
              "      <th>205</th>\n",
              "      <td>132343102</td>\n",
              "      <td>M</td>\n",
              "      <td>4610.80</td>\n",
              "      <td>SC</td>\n",
              "      <td>15116.02</td>\n",
              "      <td>1.62</td>\n",
              "      <td>103.20</td>\n",
              "      <td>461.08</td>\n",
              "      <td>N</td>\n",
              "    </tr>\n",
              "    <tr>\n",
              "      <th>206</th>\n",
              "      <td>792789534</td>\n",
              "      <td>M</td>\n",
              "      <td>5489.12</td>\n",
              "      <td>RN</td>\n",
              "      <td>14428.67</td>\n",
              "      <td>1.44</td>\n",
              "      <td>56.38</td>\n",
              "      <td>0.00</td>\n",
              "      <td>N</td>\n",
              "    </tr>\n",
              "    <tr>\n",
              "      <th>207</th>\n",
              "      <td>813971610</td>\n",
              "      <td>M</td>\n",
              "      <td>4525.37</td>\n",
              "      <td>PB</td>\n",
              "      <td>-1000.00</td>\n",
              "      <td>1.56</td>\n",
              "      <td>129.89</td>\n",
              "      <td>452.54</td>\n",
              "      <td>N</td>\n",
              "    </tr>\n",
              "    <tr>\n",
              "      <th>208</th>\n",
              "      <td>839747002</td>\n",
              "      <td>M</td>\n",
              "      <td>4297.15</td>\n",
              "      <td>MA</td>\n",
              "      <td>5542.76</td>\n",
              "      <td>2.10</td>\n",
              "      <td>106.36</td>\n",
              "      <td>0.00</td>\n",
              "      <td>N</td>\n",
              "    </tr>\n",
              "    <tr>\n",
              "      <th>209</th>\n",
              "      <td>844339630</td>\n",
              "      <td>F</td>\n",
              "      <td>4601.64</td>\n",
              "      <td>RS</td>\n",
              "      <td>0.00</td>\n",
              "      <td>2.08</td>\n",
              "      <td>106.92</td>\n",
              "      <td>460.16</td>\n",
              "      <td>N</td>\n",
              "    </tr>\n",
              "  </tbody>\n",
              "</table>\n",
              "<p>210 rows × 9 columns</p>\n",
              "</div>\n",
              "      <button class=\"colab-df-convert\" onclick=\"convertToInteractive('df-07371a90-f3a8-4dac-a5ab-4b27b1a92f41')\"\n",
              "              title=\"Convert this dataframe to an interactive table.\"\n",
              "              style=\"display:none;\">\n",
              "        \n",
              "  <svg xmlns=\"http://www.w3.org/2000/svg\" height=\"24px\"viewBox=\"0 0 24 24\"\n",
              "       width=\"24px\">\n",
              "    <path d=\"M0 0h24v24H0V0z\" fill=\"none\"/>\n",
              "    <path d=\"M18.56 5.44l.94 2.06.94-2.06 2.06-.94-2.06-.94-.94-2.06-.94 2.06-2.06.94zm-11 1L8.5 8.5l.94-2.06 2.06-.94-2.06-.94L8.5 2.5l-.94 2.06-2.06.94zm10 10l.94 2.06.94-2.06 2.06-.94-2.06-.94-.94-2.06-.94 2.06-2.06.94z\"/><path d=\"M17.41 7.96l-1.37-1.37c-.4-.4-.92-.59-1.43-.59-.52 0-1.04.2-1.43.59L10.3 9.45l-7.72 7.72c-.78.78-.78 2.05 0 2.83L4 21.41c.39.39.9.59 1.41.59.51 0 1.02-.2 1.41-.59l7.78-7.78 2.81-2.81c.8-.78.8-2.07 0-2.86zM5.41 20L4 18.59l7.72-7.72 1.47 1.35L5.41 20z\"/>\n",
              "  </svg>\n",
              "      </button>\n",
              "      \n",
              "  <style>\n",
              "    .colab-df-container {\n",
              "      display:flex;\n",
              "      flex-wrap:wrap;\n",
              "      gap: 12px;\n",
              "    }\n",
              "\n",
              "    .colab-df-convert {\n",
              "      background-color: #E8F0FE;\n",
              "      border: none;\n",
              "      border-radius: 50%;\n",
              "      cursor: pointer;\n",
              "      display: none;\n",
              "      fill: #1967D2;\n",
              "      height: 32px;\n",
              "      padding: 0 0 0 0;\n",
              "      width: 32px;\n",
              "    }\n",
              "\n",
              "    .colab-df-convert:hover {\n",
              "      background-color: #E2EBFA;\n",
              "      box-shadow: 0px 1px 2px rgba(60, 64, 67, 0.3), 0px 1px 3px 1px rgba(60, 64, 67, 0.15);\n",
              "      fill: #174EA6;\n",
              "    }\n",
              "\n",
              "    [theme=dark] .colab-df-convert {\n",
              "      background-color: #3B4455;\n",
              "      fill: #D2E3FC;\n",
              "    }\n",
              "\n",
              "    [theme=dark] .colab-df-convert:hover {\n",
              "      background-color: #434B5C;\n",
              "      box-shadow: 0px 1px 3px 1px rgba(0, 0, 0, 0.15);\n",
              "      filter: drop-shadow(0px 1px 2px rgba(0, 0, 0, 0.3));\n",
              "      fill: #FFFFFF;\n",
              "    }\n",
              "  </style>\n",
              "\n",
              "      <script>\n",
              "        const buttonEl =\n",
              "          document.querySelector('#df-07371a90-f3a8-4dac-a5ab-4b27b1a92f41 button.colab-df-convert');\n",
              "        buttonEl.style.display =\n",
              "          google.colab.kernel.accessAllowed ? 'block' : 'none';\n",
              "\n",
              "        async function convertToInteractive(key) {\n",
              "          const element = document.querySelector('#df-07371a90-f3a8-4dac-a5ab-4b27b1a92f41');\n",
              "          const dataTable =\n",
              "            await google.colab.kernel.invokeFunction('convertToInteractive',\n",
              "                                                     [key], {});\n",
              "          if (!dataTable) return;\n",
              "\n",
              "          const docLinkHtml = 'Like what you see? Visit the ' +\n",
              "            '<a target=\"_blank\" href=https://colab.research.google.com/notebooks/data_table.ipynb>data table notebook</a>'\n",
              "            + ' to learn more about interactive tables.';\n",
              "          element.innerHTML = '';\n",
              "          dataTable['output_type'] = 'display_data';\n",
              "          await google.colab.output.renderOutput(dataTable, element);\n",
              "          const docLink = document.createElement('div');\n",
              "          docLink.innerHTML = docLinkHtml;\n",
              "          element.appendChild(docLink);\n",
              "        }\n",
              "      </script>\n",
              "    </div>\n",
              "  </div>\n",
              "  "
            ]
          },
          "metadata": {},
          "execution_count": 13
        }
      ],
      "source": [
        "data_teste = pd.read_csv('toy.csv')\n",
        "data_teste"
      ]
    },
    {
      "cell_type": "code",
      "execution_count": null,
      "metadata": {
        "colab": {
          "base_uri": "https://localhost:8080/"
        },
        "id": "lv8_svCieN1g",
        "outputId": "b0572876-913b-4a82-8b2b-001a96f34be9"
      },
      "outputs": [
        {
          "output_type": "execute_result",
          "data": {
            "text/plain": [
              "array(['MA', 'SP', 'BA', 'DF', 'RS', 'SE', 'RN', 'AL', 'PA', 'AP', 'MG',\n",
              "       'PE', 'PR', 'ES', 'AC', 'PI', 'RJ', 'RR', 'MS', 'TO', 'MT', 'CE',\n",
              "       'GO', 'RO', 'PB', 'SC', 'AM'], dtype=object)"
            ]
          },
          "metadata": {},
          "execution_count": 6
        }
      ],
      "source": [
        "data_teste['estado'].unique()"
      ]
    },
    {
      "cell_type": "code",
      "execution_count": null,
      "metadata": {
        "colab": {
          "base_uri": "https://localhost:8080/",
          "height": 300
        },
        "id": "23Aj5NkyeN1g",
        "outputId": "68179d82-c1ec-4bc5-cb0b-a0eb7aaf5331"
      },
      "outputs": [
        {
          "output_type": "execute_result",
          "data": {
            "text/plain": [
              "                cpf       salario      poupanca      altura        peso  \\\n",
              "count  2.100000e+02    205.000000    205.000000  210.000000  210.000000   \n",
              "mean   5.313211e+08   5798.792683   3907.507220    2.240238   92.825905   \n",
              "std    2.789570e+08   3923.162459   6243.935327    2.131078   19.849117   \n",
              "min    1.959378e+07   4000.000000  -1000.000000    1.400000   55.550000   \n",
              "25%    3.015684e+08   4581.440000      0.000000    1.620000   77.975000   \n",
              "50%    5.711293e+08   5094.260000      0.000000    1.785000   95.180000   \n",
              "75%    7.661590e+08   5489.120000   7306.130000    1.977500  106.230000   \n",
              "max    9.999668e+08  25715.660000  19528.880000   11.980000  129.890000   \n",
              "\n",
              "       total.emprestimo  \n",
              "count        205.000000  \n",
              "mean         154.011610  \n",
              "std          228.496524  \n",
              "min            0.000000  \n",
              "25%            0.000000  \n",
              "50%            0.000000  \n",
              "75%          443.270000  \n",
              "max          600.000000  "
            ],
            "text/html": [
              "\n",
              "  <div id=\"df-791d1fc5-9a4e-4805-a8f5-742f694bd7b2\">\n",
              "    <div class=\"colab-df-container\">\n",
              "      <div>\n",
              "<style scoped>\n",
              "    .dataframe tbody tr th:only-of-type {\n",
              "        vertical-align: middle;\n",
              "    }\n",
              "\n",
              "    .dataframe tbody tr th {\n",
              "        vertical-align: top;\n",
              "    }\n",
              "\n",
              "    .dataframe thead th {\n",
              "        text-align: right;\n",
              "    }\n",
              "</style>\n",
              "<table border=\"1\" class=\"dataframe\">\n",
              "  <thead>\n",
              "    <tr style=\"text-align: right;\">\n",
              "      <th></th>\n",
              "      <th>cpf</th>\n",
              "      <th>salario</th>\n",
              "      <th>poupanca</th>\n",
              "      <th>altura</th>\n",
              "      <th>peso</th>\n",
              "      <th>total.emprestimo</th>\n",
              "    </tr>\n",
              "  </thead>\n",
              "  <tbody>\n",
              "    <tr>\n",
              "      <th>count</th>\n",
              "      <td>2.100000e+02</td>\n",
              "      <td>205.000000</td>\n",
              "      <td>205.000000</td>\n",
              "      <td>210.000000</td>\n",
              "      <td>210.000000</td>\n",
              "      <td>205.000000</td>\n",
              "    </tr>\n",
              "    <tr>\n",
              "      <th>mean</th>\n",
              "      <td>5.313211e+08</td>\n",
              "      <td>5798.792683</td>\n",
              "      <td>3907.507220</td>\n",
              "      <td>2.240238</td>\n",
              "      <td>92.825905</td>\n",
              "      <td>154.011610</td>\n",
              "    </tr>\n",
              "    <tr>\n",
              "      <th>std</th>\n",
              "      <td>2.789570e+08</td>\n",
              "      <td>3923.162459</td>\n",
              "      <td>6243.935327</td>\n",
              "      <td>2.131078</td>\n",
              "      <td>19.849117</td>\n",
              "      <td>228.496524</td>\n",
              "    </tr>\n",
              "    <tr>\n",
              "      <th>min</th>\n",
              "      <td>1.959378e+07</td>\n",
              "      <td>4000.000000</td>\n",
              "      <td>-1000.000000</td>\n",
              "      <td>1.400000</td>\n",
              "      <td>55.550000</td>\n",
              "      <td>0.000000</td>\n",
              "    </tr>\n",
              "    <tr>\n",
              "      <th>25%</th>\n",
              "      <td>3.015684e+08</td>\n",
              "      <td>4581.440000</td>\n",
              "      <td>0.000000</td>\n",
              "      <td>1.620000</td>\n",
              "      <td>77.975000</td>\n",
              "      <td>0.000000</td>\n",
              "    </tr>\n",
              "    <tr>\n",
              "      <th>50%</th>\n",
              "      <td>5.711293e+08</td>\n",
              "      <td>5094.260000</td>\n",
              "      <td>0.000000</td>\n",
              "      <td>1.785000</td>\n",
              "      <td>95.180000</td>\n",
              "      <td>0.000000</td>\n",
              "    </tr>\n",
              "    <tr>\n",
              "      <th>75%</th>\n",
              "      <td>7.661590e+08</td>\n",
              "      <td>5489.120000</td>\n",
              "      <td>7306.130000</td>\n",
              "      <td>1.977500</td>\n",
              "      <td>106.230000</td>\n",
              "      <td>443.270000</td>\n",
              "    </tr>\n",
              "    <tr>\n",
              "      <th>max</th>\n",
              "      <td>9.999668e+08</td>\n",
              "      <td>25715.660000</td>\n",
              "      <td>19528.880000</td>\n",
              "      <td>11.980000</td>\n",
              "      <td>129.890000</td>\n",
              "      <td>600.000000</td>\n",
              "    </tr>\n",
              "  </tbody>\n",
              "</table>\n",
              "</div>\n",
              "      <button class=\"colab-df-convert\" onclick=\"convertToInteractive('df-791d1fc5-9a4e-4805-a8f5-742f694bd7b2')\"\n",
              "              title=\"Convert this dataframe to an interactive table.\"\n",
              "              style=\"display:none;\">\n",
              "        \n",
              "  <svg xmlns=\"http://www.w3.org/2000/svg\" height=\"24px\"viewBox=\"0 0 24 24\"\n",
              "       width=\"24px\">\n",
              "    <path d=\"M0 0h24v24H0V0z\" fill=\"none\"/>\n",
              "    <path d=\"M18.56 5.44l.94 2.06.94-2.06 2.06-.94-2.06-.94-.94-2.06-.94 2.06-2.06.94zm-11 1L8.5 8.5l.94-2.06 2.06-.94-2.06-.94L8.5 2.5l-.94 2.06-2.06.94zm10 10l.94 2.06.94-2.06 2.06-.94-2.06-.94-.94-2.06-.94 2.06-2.06.94z\"/><path d=\"M17.41 7.96l-1.37-1.37c-.4-.4-.92-.59-1.43-.59-.52 0-1.04.2-1.43.59L10.3 9.45l-7.72 7.72c-.78.78-.78 2.05 0 2.83L4 21.41c.39.39.9.59 1.41.59.51 0 1.02-.2 1.41-.59l7.78-7.78 2.81-2.81c.8-.78.8-2.07 0-2.86zM5.41 20L4 18.59l7.72-7.72 1.47 1.35L5.41 20z\"/>\n",
              "  </svg>\n",
              "      </button>\n",
              "      \n",
              "  <style>\n",
              "    .colab-df-container {\n",
              "      display:flex;\n",
              "      flex-wrap:wrap;\n",
              "      gap: 12px;\n",
              "    }\n",
              "\n",
              "    .colab-df-convert {\n",
              "      background-color: #E8F0FE;\n",
              "      border: none;\n",
              "      border-radius: 50%;\n",
              "      cursor: pointer;\n",
              "      display: none;\n",
              "      fill: #1967D2;\n",
              "      height: 32px;\n",
              "      padding: 0 0 0 0;\n",
              "      width: 32px;\n",
              "    }\n",
              "\n",
              "    .colab-df-convert:hover {\n",
              "      background-color: #E2EBFA;\n",
              "      box-shadow: 0px 1px 2px rgba(60, 64, 67, 0.3), 0px 1px 3px 1px rgba(60, 64, 67, 0.15);\n",
              "      fill: #174EA6;\n",
              "    }\n",
              "\n",
              "    [theme=dark] .colab-df-convert {\n",
              "      background-color: #3B4455;\n",
              "      fill: #D2E3FC;\n",
              "    }\n",
              "\n",
              "    [theme=dark] .colab-df-convert:hover {\n",
              "      background-color: #434B5C;\n",
              "      box-shadow: 0px 1px 3px 1px rgba(0, 0, 0, 0.15);\n",
              "      filter: drop-shadow(0px 1px 2px rgba(0, 0, 0, 0.3));\n",
              "      fill: #FFFFFF;\n",
              "    }\n",
              "  </style>\n",
              "\n",
              "      <script>\n",
              "        const buttonEl =\n",
              "          document.querySelector('#df-791d1fc5-9a4e-4805-a8f5-742f694bd7b2 button.colab-df-convert');\n",
              "        buttonEl.style.display =\n",
              "          google.colab.kernel.accessAllowed ? 'block' : 'none';\n",
              "\n",
              "        async function convertToInteractive(key) {\n",
              "          const element = document.querySelector('#df-791d1fc5-9a4e-4805-a8f5-742f694bd7b2');\n",
              "          const dataTable =\n",
              "            await google.colab.kernel.invokeFunction('convertToInteractive',\n",
              "                                                     [key], {});\n",
              "          if (!dataTable) return;\n",
              "\n",
              "          const docLinkHtml = 'Like what you see? Visit the ' +\n",
              "            '<a target=\"_blank\" href=https://colab.research.google.com/notebooks/data_table.ipynb>data table notebook</a>'\n",
              "            + ' to learn more about interactive tables.';\n",
              "          element.innerHTML = '';\n",
              "          dataTable['output_type'] = 'display_data';\n",
              "          await google.colab.output.renderOutput(dataTable, element);\n",
              "          const docLink = document.createElement('div');\n",
              "          docLink.innerHTML = docLinkHtml;\n",
              "          element.appendChild(docLink);\n",
              "        }\n",
              "      </script>\n",
              "    </div>\n",
              "  </div>\n",
              "  "
            ]
          },
          "metadata": {},
          "execution_count": 7
        }
      ],
      "source": [
        "data_teste.describe()"
      ]
    },
    {
      "cell_type": "code",
      "execution_count": null,
      "metadata": {
        "colab": {
          "base_uri": "https://localhost:8080/",
          "height": 282
        },
        "id": "n8dpt_1JeN1h",
        "outputId": "62760bb4-af85-4a1f-bb56-c40f9d05812b"
      },
      "outputs": [
        {
          "output_type": "execute_result",
          "data": {
            "text/plain": [
              "<matplotlib.axes._subplots.AxesSubplot at 0x7fb4b1562ed0>"
            ]
          },
          "metadata": {},
          "execution_count": 8
        },
        {
          "output_type": "display_data",
          "data": {
            "text/plain": [
              "<Figure size 432x288 with 1 Axes>"
            ],
            "image/png": "[encoded data removed]"
          },
          "metadata": {
            "needs_background": "light"
          }
        }
      ],
      "source": [
        "data_teste['altura'].plot.hist(rwidth=0.9)"
      ]
    },
    {
      "cell_type": "code",
      "execution_count": null,
      "metadata": {
        "colab": {
          "base_uri": "https://localhost:8080/",
          "height": 265
        },
        "id": "NVFTU4xyeN1h",
        "outputId": "d409e0e5-d71f-4f3f-ec9c-aa279b890cd1"
      },
      "outputs": [
        {
          "output_type": "display_data",
          "data": {
            "text/plain": [
              "<Figure size 432x288 with 1 Axes>"
            ],
            "image/png": "[encoded data removed]"
          },
          "metadata": {
            "needs_background": "light"
          }
        }
      ],
      "source": [
        "ax = sns.boxplot(data=data_teste['altura'])"
      ]
    },
    {
      "cell_type": "code",
      "execution_count": null,
      "metadata": {
        "id": "IG-Tt7qreN1i"
      },
      "outputs": [],
      "source": [
        "outliers = boxplot_stats(data_teste[\"altura\"]).pop(0)['fliers']"
      ]
    },
    {
      "cell_type": "code",
      "execution_count": null,
      "metadata": {
        "colab": {
          "base_uri": "https://localhost:8080/"
        },
        "id": "2Jk72Sg0eN1i",
        "outputId": "06613017-1b90-48c2-de60-fc73d8fc5288"
      },
      "outputs": [
        {
          "output_type": "execute_result",
          "data": {
            "text/plain": [
              "(array([ 19,  52,  67,  82,  99, 141, 144, 160, 168, 197]),)"
            ]
          },
          "metadata": {},
          "execution_count": 11
        }
      ],
      "source": [
        "np.where(data_teste[\"altura\"].isin(outliers))"
      ]
    },
    {
      "cell_type": "code",
      "execution_count": null,
      "metadata": {
        "colab": {
          "base_uri": "https://localhost:8080/"
        },
        "id": "5EqJq4R0eN1j",
        "outputId": "2cd4523f-7822-48b1-a9af-7a0dd7388bcd"
      },
      "outputs": [
        {
          "output_type": "execute_result",
          "data": {
            "text/plain": [
              "(210, 9)"
            ]
          },
          "metadata": {},
          "execution_count": 12
        }
      ],
      "source": [
        "data_teste.shape"
      ]
    },
    {
      "cell_type": "code",
      "execution_count": null,
      "metadata": {
        "id": "1AK5g5JAeN1k"
      },
      "outputs": [],
      "source": [
        "data_teste.drop(np.where(data_teste[\"altura\"].isin(outliers))[0], inplace=True)"
      ]
    },
    {
      "cell_type": "code",
      "execution_count": null,
      "metadata": {
        "id": "Yrsh33-aeN1k",
        "outputId": "8ea5e5d3-e4be-41c5-ffda-10938316c849"
      },
      "outputs": [
        {
          "data": {
            "text/plain": [
              "(200, 9)"
            ]
          },
          "execution_count": 11,
          "metadata": {},
          "output_type": "execute_result"
        }
      ],
      "source": [
        "data_teste.shape"
      ]
    },
    {
      "cell_type": "code",
      "execution_count": null,
      "metadata": {
        "id": "uQcRWSaCeN1l",
        "outputId": "36c24b23-a565-442a-d359-285b8b83a4d1"
      },
      "outputs": [
        {
          "data": {
            "text/plain": [
              "<AxesSubplot:>"
            ]
          },
          "execution_count": 12,
          "metadata": {},
          "output_type": "execute_result"
        },
        {
          "data": {
            "image/png": "[encoded data removed]",
            "text/plain": [
              "<Figure size 432x288 with 1 Axes>"
            ]
          },
          "metadata": {},
          "output_type": "display_data"
        }
      ],
      "source": [
        "sns.boxplot(data=data_teste['altura'])"
      ]
    },
    {
      "cell_type": "code",
      "execution_count": null,
      "metadata": {
        "id": "Wf2LCRS8eN1m",
        "outputId": "3c616ffc-092a-470f-e353-655f61fd45a4"
      },
      "outputs": [
        {
          "data": {
            "text/plain": [
              "<AxesSubplot:ylabel='Frequency'>"
            ]
          },
          "execution_count": 13,
          "metadata": {},
          "output_type": "execute_result"
        },
        {
          "data": {
            "image/png": "[encoded data removed]",
            "text/plain": [
              "<Figure size 432x288 with 1 Axes>"
            ]
          },
          "metadata": {},
          "output_type": "display_data"
        }
      ],
      "source": [
        "data_teste['altura'].plot.hist(rwidth=0.9)"
      ]
    },
    {
      "cell_type": "code",
      "execution_count": null,
      "metadata": {
        "id": "4MEZuIXIeN1m",
        "outputId": "b9ada642-0ece-4b78-ae98-e9da6016f3e4"
      },
      "outputs": [
        {
          "data": {
            "text/plain": [
              "<AxesSubplot:ylabel='Frequency'>"
            ]
          },
          "execution_count": 14,
          "metadata": {},
          "output_type": "execute_result"
        },
        {
          "data": {
            "image/png": "[encoded data removed]",
            "text/plain": [
              "<Figure size 432x288 with 1 Axes>"
            ]
          },
          "metadata": {},
          "output_type": "display_data"
        }
      ],
      "source": [
        "data_teste['peso'].plot.hist(rwidth=0.9)"
      ]
    },
    {
      "cell_type": "code",
      "execution_count": null,
      "metadata": {
        "id": "A6axZLbAeN1n"
      },
      "outputs": [],
      "source": [
        "data_teste['peso'] = (data_teste['peso'] - min(data_teste['peso']))/(max(data_teste['peso']) - min(data_teste['peso']))\n"
      ]
    },
    {
      "cell_type": "code",
      "execution_count": null,
      "metadata": {
        "id": "KcB6WS4OeN1n",
        "outputId": "5a4fdfdf-3a61-41cb-83aa-6a3dce05ca71"
      },
      "outputs": [
        {
          "data": {
            "text/plain": [
              "<AxesSubplot:ylabel='Frequency'>"
            ]
          },
          "execution_count": 16,
          "metadata": {},
          "output_type": "execute_result"
        },
        {
          "data": {
            "image/png": "[encoded data removed]",
            "text/plain": [
              "<Figure size 432x288 with 1 Axes>"
            ]
          },
          "metadata": {},
          "output_type": "display_data"
        }
      ],
      "source": [
        "data_teste['peso'].plot.hist(rwidth=0.9)"
      ]
    },
    {
      "cell_type": "code",
      "execution_count": null,
      "metadata": {
        "id": "Lo3qY0qneN1o",
        "outputId": "f0a76d34-e4c4-4186-c4e6-8ec7643db76b"
      },
      "outputs": [
        {
          "data": {
            "image/png": "[encoded data removed]",
            "text/plain": [
              "<Figure size 432x288 with 1 Axes>"
            ]
          },
          "metadata": {},
          "output_type": "display_data"
        }
      ],
      "source": [
        "ax = sns.boxplot(data=data_teste['peso'])"
      ]
    },
    {
      "cell_type": "code",
      "execution_count": null,
      "metadata": {
        "id": "bYssIhBIeN1o",
        "outputId": "bffdfdf1-373e-4858-b8cb-15a151a581bd"
      },
      "outputs": [
        {
          "data": {
            "text/html": [
              "<div>\n",
              "<style scoped>\n",
              "    .dataframe tbody tr th:only-of-type {\n",
              "        vertical-align: middle;\n",
              "    }\n",
              "\n",
              "    .dataframe tbody tr th {\n",
              "        vertical-align: top;\n",
              "    }\n",
              "\n",
              "    .dataframe thead th {\n",
              "        text-align: right;\n",
              "    }\n",
              "</style>\n",
              "<table border=\"1\" class=\"dataframe\">\n",
              "  <thead>\n",
              "    <tr style=\"text-align: right;\">\n",
              "      <th></th>\n",
              "      <th>column</th>\n",
              "      <th>percent_nan</th>\n",
              "    </tr>\n",
              "  </thead>\n",
              "  <tbody>\n",
              "    <tr>\n",
              "      <th>4</th>\n",
              "      <td>poupanca</td>\n",
              "      <td>0.025</td>\n",
              "    </tr>\n",
              "    <tr>\n",
              "      <th>7</th>\n",
              "      <td>total.emprestimo</td>\n",
              "      <td>0.025</td>\n",
              "    </tr>\n",
              "    <tr>\n",
              "      <th>8</th>\n",
              "      <td>financiamento</td>\n",
              "      <td>0.025</td>\n",
              "    </tr>\n",
              "    <tr>\n",
              "      <th>2</th>\n",
              "      <td>salario</td>\n",
              "      <td>0.020</td>\n",
              "    </tr>\n",
              "  </tbody>\n",
              "</table>\n",
              "</div>"
            ],
            "text/plain": [
              "             column  percent_nan\n",
              "4          poupanca        0.025\n",
              "7  total.emprestimo        0.025\n",
              "8     financiamento        0.025\n",
              "2           salario        0.020"
            ]
          },
          "execution_count": 63,
          "metadata": {},
          "output_type": "execute_result"
        }
      ],
      "source": [
        "result = Parallel(n_jobs=mp.cpu_count())(delayed(np.round)(data_teste[i].isna().sum()/len(data_teste[i]),6) for i in data_teste.columns)\n",
        "\n",
        "perc_nan = pd.DataFrame(data = {'column': data_teste.columns, 'percent_nan': result})\n",
        "perc_nan.sort_values(by=['percent_nan'], inplace=True, ascending=False)\n",
        "perc_nan.drop(perc_nan[perc_nan['percent_nan'] == 0].index, inplace=True)\n",
        "perc_nan"
      ]
    },
    {
      "cell_type": "code",
      "execution_count": null,
      "metadata": {
        "id": "YbI4UZbQeN1p",
        "outputId": "f13cfca0-1926-40cf-c7ff-33668ce3c6b9"
      },
      "outputs": [
        {
          "data": {
            "image/png": "[encoded data removed]",
            "text/plain": [
              "<Figure size 432x288 with 2 Axes>"
            ]
          },
          "metadata": {},
          "output_type": "display_data"
        }
      ],
      "source": [
        "corr = data_teste.corr()\n",
        "ax = sns.heatmap(\n",
        "    corr, \n",
        "    vmin=-1, vmax=1, center=0,\n",
        "    cmap=sns.diverging_palette(20, 220, n=200),\n",
        "    square=True\n",
        ")\n",
        "ax.set_xticklabels(\n",
        "    ax.get_xticklabels(),\n",
        "    rotation=45,\n",
        "    horizontalalignment='right'\n",
        ");"
      ]
    },
    {
      "cell_type": "code",
      "execution_count": null,
      "metadata": {
        "id": "rEhlUedbeN1q",
        "outputId": "5e9ec81b-a5a0-459e-a528-9f60f5dc95df"
      },
      "outputs": [
        {
          "data": {
            "text/html": [
              "<div>\n",
              "<style scoped>\n",
              "    .dataframe tbody tr th:only-of-type {\n",
              "        vertical-align: middle;\n",
              "    }\n",
              "\n",
              "    .dataframe tbody tr th {\n",
              "        vertical-align: top;\n",
              "    }\n",
              "\n",
              "    .dataframe thead th {\n",
              "        text-align: right;\n",
              "    }\n",
              "</style>\n",
              "<table border=\"1\" class=\"dataframe\">\n",
              "  <thead>\n",
              "    <tr style=\"text-align: right;\">\n",
              "      <th></th>\n",
              "      <th>F</th>\n",
              "      <th>M</th>\n",
              "    </tr>\n",
              "  </thead>\n",
              "  <tbody>\n",
              "    <tr>\n",
              "      <th>0</th>\n",
              "      <td>0</td>\n",
              "      <td>1</td>\n",
              "    </tr>\n",
              "    <tr>\n",
              "      <th>1</th>\n",
              "      <td>1</td>\n",
              "      <td>0</td>\n",
              "    </tr>\n",
              "    <tr>\n",
              "      <th>2</th>\n",
              "      <td>1</td>\n",
              "      <td>0</td>\n",
              "    </tr>\n",
              "    <tr>\n",
              "      <th>3</th>\n",
              "      <td>1</td>\n",
              "      <td>0</td>\n",
              "    </tr>\n",
              "    <tr>\n",
              "      <th>4</th>\n",
              "      <td>0</td>\n",
              "      <td>1</td>\n",
              "    </tr>\n",
              "    <tr>\n",
              "      <th>...</th>\n",
              "      <td>...</td>\n",
              "      <td>...</td>\n",
              "    </tr>\n",
              "    <tr>\n",
              "      <th>195</th>\n",
              "      <td>0</td>\n",
              "      <td>1</td>\n",
              "    </tr>\n",
              "    <tr>\n",
              "      <th>196</th>\n",
              "      <td>0</td>\n",
              "      <td>1</td>\n",
              "    </tr>\n",
              "    <tr>\n",
              "      <th>197</th>\n",
              "      <td>0</td>\n",
              "      <td>1</td>\n",
              "    </tr>\n",
              "    <tr>\n",
              "      <th>198</th>\n",
              "      <td>0</td>\n",
              "      <td>1</td>\n",
              "    </tr>\n",
              "    <tr>\n",
              "      <th>199</th>\n",
              "      <td>1</td>\n",
              "      <td>0</td>\n",
              "    </tr>\n",
              "  </tbody>\n",
              "</table>\n",
              "<p>200 rows × 2 columns</p>\n",
              "</div>"
            ],
            "text/plain": [
              "     F  M\n",
              "0    0  1\n",
              "1    1  0\n",
              "2    1  0\n",
              "3    1  0\n",
              "4    0  1\n",
              "..  .. ..\n",
              "195  0  1\n",
              "196  0  1\n",
              "197  0  1\n",
              "198  0  1\n",
              "199  1  0\n",
              "\n",
              "[200 rows x 2 columns]"
            ]
          },
          "execution_count": 42,
          "metadata": {},
          "output_type": "execute_result"
        }
      ],
      "source": [
        "pd.get_dummies(pd.Series(list(data_teste['sexo'])))"
      ]
    },
    {
      "cell_type": "markdown",
      "metadata": {
        "id": "h2vDad-LeN1q"
      },
      "source": [
        "### Pré-processamento textos"
      ]
    },
    {
      "cell_type": "code",
      "execution_count": null,
      "metadata": {
        "id": "NPBr-2JleN1r"
      },
      "outputs": [],
      "source": [
        "import numpy as np # array and vector manipulation\n",
        "import pandas as pd # data manipulation\n",
        "import os # using system calls\n",
        "from nltk.corpus import stopwords\n",
        "import datetime \n",
        "from collections import Counter\n",
        "import matplotlib.pyplot as plt\n",
        "import re\n",
        "import nltk\n",
        "#nltk.download('wordnet')\n",
        "#nltk.download('punkt')\n",
        "#nltk.download('stopwords')\n",
        "from nltk.stem import WordNetLemmatizer\n",
        "from joblib import Parallel, delayed\n",
        "import multiprocessing as mp\n",
        "#\n",
        "from sklearn.feature_extraction.text import CountVectorizer\n",
        "from sklearn.feature_extraction.text import TfidfVectorizer\n",
        "\n",
        "from collections import Counter\n",
        "\n",
        "\n",
        "from stop_words import get_stop_words\n",
        "from nltk.corpus import stopwords\n",
        "\n",
        "from sklearn import preprocessing"
      ]
    },
    {
      "cell_type": "code",
      "source": [
        "files.upload()"
      ],
      "metadata": {
        "id": "y1EHEQfqerZf"
      },
      "execution_count": null,
      "outputs": []
    },
    {
      "cell_type": "code",
      "execution_count": null,
      "metadata": {
        "id": "9lJ64IHTeN1s",
        "outputId": "691aae69-829c-4812-a5f3-519cdbc9c80a"
      },
      "outputs": [
        {
          "data": {
            "text/html": [
              "<div>\n",
              "<style scoped>\n",
              "    .dataframe tbody tr th:only-of-type {\n",
              "        vertical-align: middle;\n",
              "    }\n",
              "\n",
              "    .dataframe tbody tr th {\n",
              "        vertical-align: top;\n",
              "    }\n",
              "\n",
              "    .dataframe thead th {\n",
              "        text-align: right;\n",
              "    }\n",
              "</style>\n",
              "<table border=\"1\" class=\"dataframe\">\n",
              "  <thead>\n",
              "    <tr style=\"text-align: right;\">\n",
              "      <th></th>\n",
              "      <th>Tweet</th>\n",
              "      <th>Date</th>\n",
              "    </tr>\n",
              "  </thead>\n",
              "  <tbody>\n",
              "    <tr>\n",
              "      <th>0</th>\n",
              "      <td>....The Prime Minister was able to save a grea...</td>\n",
              "      <td>08-20-2019 23:51:53</td>\n",
              "    </tr>\n",
              "    <tr>\n",
              "      <th>1</th>\n",
              "      <td>Denmark is a very special country with incredi...</td>\n",
              "      <td>08-20-2019 23:51:52</td>\n",
              "    </tr>\n",
              "    <tr>\n",
              "      <th>2</th>\n",
              "      <td>CONGRATULATIONS @EricTrump and @LaraLeaTrump o...</td>\n",
              "      <td>08-20-2019 20:00:41</td>\n",
              "    </tr>\n",
              "    <tr>\n",
              "      <th>3</th>\n",
              "      <td>https://t.co/WyGbgUGEhJ</td>\n",
              "      <td>08-20-2019 18:13:51</td>\n",
              "    </tr>\n",
              "    <tr>\n",
              "      <th>4</th>\n",
              "      <td>RT @FullMeasureNews: Sunday on Full Measure: C...</td>\n",
              "      <td>08-20-2019 18:12:59</td>\n",
              "    </tr>\n",
              "    <tr>\n",
              "      <th>...</th>\n",
              "      <td>...</td>\n",
              "      <td>...</td>\n",
              "    </tr>\n",
              "    <tr>\n",
              "      <th>5245</th>\n",
              "      <td>Fake News of which there is soooo much (this t...</td>\n",
              "      <td>08-21-2018 11:10:49</td>\n",
              "    </tr>\n",
              "    <tr>\n",
              "      <th>5246</th>\n",
              "      <td>Even James Clapper has admonished John Brennan...</td>\n",
              "      <td>08-21-2018 10:55:03</td>\n",
              "    </tr>\n",
              "    <tr>\n",
              "      <th>5247</th>\n",
              "      <td>A Blue Wave means Crime and Open Borders. A Re...</td>\n",
              "      <td>08-21-2018 10:38:19</td>\n",
              "    </tr>\n",
              "    <tr>\n",
              "      <th>5248</th>\n",
              "      <td>I am hearing so many great things about the Re...</td>\n",
              "      <td>08-21-2018 03:53:49</td>\n",
              "    </tr>\n",
              "    <tr>\n",
              "      <th>5249</th>\n",
              "      <td>Will be going to the Great State of West Virgi...</td>\n",
              "      <td>08-21-2018 03:40:49</td>\n",
              "    </tr>\n",
              "  </tbody>\n",
              "</table>\n",
              "<p>5250 rows × 2 columns</p>\n",
              "</div>"
            ],
            "text/plain": [
              "                                                  Tweet                 Date\n",
              "0     ....The Prime Minister was able to save a grea...  08-20-2019 23:51:53\n",
              "1     Denmark is a very special country with incredi...  08-20-2019 23:51:52\n",
              "2     CONGRATULATIONS @EricTrump and @LaraLeaTrump o...  08-20-2019 20:00:41\n",
              "3                               https://t.co/WyGbgUGEhJ  08-20-2019 18:13:51\n",
              "4     RT @FullMeasureNews: Sunday on Full Measure: C...  08-20-2019 18:12:59\n",
              "...                                                 ...                  ...\n",
              "5245  Fake News of which there is soooo much (this t...  08-21-2018 11:10:49\n",
              "5246  Even James Clapper has admonished John Brennan...  08-21-2018 10:55:03\n",
              "5247  A Blue Wave means Crime and Open Borders. A Re...  08-21-2018 10:38:19\n",
              "5248  I am hearing so many great things about the Re...  08-21-2018 03:53:49\n",
              "5249  Will be going to the Great State of West Virgi...  08-21-2018 03:40:49\n",
              "\n",
              "[5250 rows x 2 columns]"
            ]
          },
          "execution_count": 19,
          "metadata": {},
          "output_type": "execute_result"
        }
      ],
      "source": [
        "data = pd.read_csv('data_trump.csv')\n",
        "data"
      ]
    },
    {
      "cell_type": "code",
      "execution_count": null,
      "metadata": {
        "id": "ScYo2XDZeN1s",
        "outputId": "8a072d2f-6e25-4961-d99a-ef94a2e35082"
      },
      "outputs": [
        {
          "data": {
            "text/plain": [
              "(5250, 2)"
            ]
          },
          "execution_count": 20,
          "metadata": {},
          "output_type": "execute_result"
        }
      ],
      "source": [
        "data.shape"
      ]
    },
    {
      "cell_type": "code",
      "execution_count": null,
      "metadata": {
        "id": "DKWHP9bkeN1s",
        "outputId": "b423774c-b174-4efc-c329-0237a38b8d66"
      },
      "outputs": [
        {
          "data": {
            "text/html": [
              "<div>\n",
              "<style scoped>\n",
              "    .dataframe tbody tr th:only-of-type {\n",
              "        vertical-align: middle;\n",
              "    }\n",
              "\n",
              "    .dataframe tbody tr th {\n",
              "        vertical-align: top;\n",
              "    }\n",
              "\n",
              "    .dataframe thead th {\n",
              "        text-align: right;\n",
              "    }\n",
              "</style>\n",
              "<table border=\"1\" class=\"dataframe\">\n",
              "  <thead>\n",
              "    <tr style=\"text-align: right;\">\n",
              "      <th></th>\n",
              "      <th>Tweet</th>\n",
              "      <th>Date</th>\n",
              "    </tr>\n",
              "  </thead>\n",
              "  <tbody>\n",
              "    <tr>\n",
              "      <th>0</th>\n",
              "      <td>....The Prime Minister was able to save a grea...</td>\n",
              "      <td>2019-08-20 23:51:53</td>\n",
              "    </tr>\n",
              "    <tr>\n",
              "      <th>1</th>\n",
              "      <td>Denmark is a very special country with incredi...</td>\n",
              "      <td>2019-08-20 23:51:52</td>\n",
              "    </tr>\n",
              "    <tr>\n",
              "      <th>2</th>\n",
              "      <td>CONGRATULATIONS @EricTrump and @LaraLeaTrump o...</td>\n",
              "      <td>2019-08-20 20:00:41</td>\n",
              "    </tr>\n",
              "    <tr>\n",
              "      <th>3</th>\n",
              "      <td>https://t.co/WyGbgUGEhJ</td>\n",
              "      <td>2019-08-20 18:13:51</td>\n",
              "    </tr>\n",
              "    <tr>\n",
              "      <th>4</th>\n",
              "      <td>RT @FullMeasureNews: Sunday on Full Measure: C...</td>\n",
              "      <td>2019-08-20 18:12:59</td>\n",
              "    </tr>\n",
              "    <tr>\n",
              "      <th>...</th>\n",
              "      <td>...</td>\n",
              "      <td>...</td>\n",
              "    </tr>\n",
              "    <tr>\n",
              "      <th>5245</th>\n",
              "      <td>Fake News of which there is soooo much (this t...</td>\n",
              "      <td>2018-08-21 11:10:49</td>\n",
              "    </tr>\n",
              "    <tr>\n",
              "      <th>5246</th>\n",
              "      <td>Even James Clapper has admonished John Brennan...</td>\n",
              "      <td>2018-08-21 10:55:03</td>\n",
              "    </tr>\n",
              "    <tr>\n",
              "      <th>5247</th>\n",
              "      <td>A Blue Wave means Crime and Open Borders. A Re...</td>\n",
              "      <td>2018-08-21 10:38:19</td>\n",
              "    </tr>\n",
              "    <tr>\n",
              "      <th>5248</th>\n",
              "      <td>I am hearing so many great things about the Re...</td>\n",
              "      <td>2018-08-21 03:53:49</td>\n",
              "    </tr>\n",
              "    <tr>\n",
              "      <th>5249</th>\n",
              "      <td>Will be going to the Great State of West Virgi...</td>\n",
              "      <td>2018-08-21 03:40:49</td>\n",
              "    </tr>\n",
              "  </tbody>\n",
              "</table>\n",
              "<p>5250 rows × 2 columns</p>\n",
              "</div>"
            ],
            "text/plain": [
              "                                                  Tweet                Date\n",
              "0     ....The Prime Minister was able to save a grea... 2019-08-20 23:51:53\n",
              "1     Denmark is a very special country with incredi... 2019-08-20 23:51:52\n",
              "2     CONGRATULATIONS @EricTrump and @LaraLeaTrump o... 2019-08-20 20:00:41\n",
              "3                               https://t.co/WyGbgUGEhJ 2019-08-20 18:13:51\n",
              "4     RT @FullMeasureNews: Sunday on Full Measure: C... 2019-08-20 18:12:59\n",
              "...                                                 ...                 ...\n",
              "5245  Fake News of which there is soooo much (this t... 2018-08-21 11:10:49\n",
              "5246  Even James Clapper has admonished John Brennan... 2018-08-21 10:55:03\n",
              "5247  A Blue Wave means Crime and Open Borders. A Re... 2018-08-21 10:38:19\n",
              "5248  I am hearing so many great things about the Re... 2018-08-21 03:53:49\n",
              "5249  Will be going to the Great State of West Virgi... 2018-08-21 03:40:49\n",
              "\n",
              "[5250 rows x 2 columns]"
            ]
          },
          "execution_count": 21,
          "metadata": {},
          "output_type": "execute_result"
        }
      ],
      "source": [
        "data['Date'] = pd.to_datetime(data['Date'])\n",
        "data"
      ]
    },
    {
      "cell_type": "code",
      "execution_count": null,
      "metadata": {
        "id": "ks4M5RCOeN1t",
        "outputId": "db8d4a3d-5caa-4fc3-aed0-d509109b512a"
      },
      "outputs": [
        {
          "data": {
            "text/plain": [
              "<BarContainer object of 24 artists>"
            ]
          },
          "execution_count": 24,
          "metadata": {},
          "output_type": "execute_result"
        },
        {
          "data": {
            "image/png": "[encoded data removed]",
            "text/plain": [
              "<Figure size 432x288 with 1 Axes>"
            ]
          },
          "metadata": {},
          "output_type": "display_data"
        }
      ],
      "source": [
        "hour_freq = Counter((data[\"Date\"].dt.hour))\n",
        "plt.bar(hour_freq.keys(), hour_freq.values())"
      ]
    },
    {
      "cell_type": "code",
      "execution_count": null,
      "metadata": {
        "id": "eFwxUvukeN1t",
        "outputId": "31a21714-17e8-4613-de5c-65c25abddd91"
      },
      "outputs": [
        {
          "data": {
            "text/html": [
              "<div>\n",
              "<style scoped>\n",
              "    .dataframe tbody tr th:only-of-type {\n",
              "        vertical-align: middle;\n",
              "    }\n",
              "\n",
              "    .dataframe tbody tr th {\n",
              "        vertical-align: top;\n",
              "    }\n",
              "\n",
              "    .dataframe thead th {\n",
              "        text-align: right;\n",
              "    }\n",
              "</style>\n",
              "<table border=\"1\" class=\"dataframe\">\n",
              "  <thead>\n",
              "    <tr style=\"text-align: right;\">\n",
              "      <th></th>\n",
              "      <th>Tweet</th>\n",
              "      <th>Date</th>\n",
              "    </tr>\n",
              "  </thead>\n",
              "  <tbody>\n",
              "    <tr>\n",
              "      <th>0</th>\n",
              "      <td>....The Prime Minister was able to save a grea...</td>\n",
              "      <td>23</td>\n",
              "    </tr>\n",
              "    <tr>\n",
              "      <th>1</th>\n",
              "      <td>Denmark is a very special country with incredi...</td>\n",
              "      <td>23</td>\n",
              "    </tr>\n",
              "    <tr>\n",
              "      <th>2</th>\n",
              "      <td>CONGRATULATIONS @EricTrump and @LaraLeaTrump o...</td>\n",
              "      <td>20</td>\n",
              "    </tr>\n",
              "    <tr>\n",
              "      <th>3</th>\n",
              "      <td>https://t.co/WyGbgUGEhJ</td>\n",
              "      <td>18</td>\n",
              "    </tr>\n",
              "    <tr>\n",
              "      <th>4</th>\n",
              "      <td>RT @FullMeasureNews: Sunday on Full Measure: C...</td>\n",
              "      <td>18</td>\n",
              "    </tr>\n",
              "    <tr>\n",
              "      <th>...</th>\n",
              "      <td>...</td>\n",
              "      <td>...</td>\n",
              "    </tr>\n",
              "    <tr>\n",
              "      <th>5245</th>\n",
              "      <td>Fake News of which there is soooo much (this t...</td>\n",
              "      <td>11</td>\n",
              "    </tr>\n",
              "    <tr>\n",
              "      <th>5246</th>\n",
              "      <td>Even James Clapper has admonished John Brennan...</td>\n",
              "      <td>10</td>\n",
              "    </tr>\n",
              "    <tr>\n",
              "      <th>5247</th>\n",
              "      <td>A Blue Wave means Crime and Open Borders. A Re...</td>\n",
              "      <td>10</td>\n",
              "    </tr>\n",
              "    <tr>\n",
              "      <th>5248</th>\n",
              "      <td>I am hearing so many great things about the Re...</td>\n",
              "      <td>3</td>\n",
              "    </tr>\n",
              "    <tr>\n",
              "      <th>5249</th>\n",
              "      <td>Will be going to the Great State of West Virgi...</td>\n",
              "      <td>3</td>\n",
              "    </tr>\n",
              "  </tbody>\n",
              "</table>\n",
              "<p>5250 rows × 2 columns</p>\n",
              "</div>"
            ],
            "text/plain": [
              "                                                  Tweet  Date\n",
              "0     ....The Prime Minister was able to save a grea...    23\n",
              "1     Denmark is a very special country with incredi...    23\n",
              "2     CONGRATULATIONS @EricTrump and @LaraLeaTrump o...    20\n",
              "3                               https://t.co/WyGbgUGEhJ    18\n",
              "4     RT @FullMeasureNews: Sunday on Full Measure: C...    18\n",
              "...                                                 ...   ...\n",
              "5245  Fake News of which there is soooo much (this t...    11\n",
              "5246  Even James Clapper has admonished John Brennan...    10\n",
              "5247  A Blue Wave means Crime and Open Borders. A Re...    10\n",
              "5248  I am hearing so many great things about the Re...     3\n",
              "5249  Will be going to the Great State of West Virgi...     3\n",
              "\n",
              "[5250 rows x 2 columns]"
            ]
          },
          "execution_count": 27,
          "metadata": {},
          "output_type": "execute_result"
        }
      ],
      "source": [
        "data['Date'] = data['Date'].dt.hour\n",
        "data"
      ]
    },
    {
      "cell_type": "code",
      "execution_count": null,
      "metadata": {
        "id": "siF8F47QeN1u",
        "outputId": "68e02b4b-0230-4914-8e40-c4b435ce6659"
      },
      "outputs": [
        {
          "data": {
            "text/plain": [
              "0    ....The Prime Minister was able to save a grea...\n",
              "1    Denmark is a very special country with incredi...\n",
              "2    CONGRATULATIONS @EricTrump and @LaraLeaTrump o...\n",
              "3                              https://t.co/WyGbgUGEhJ\n",
              "4    RT @FullMeasureNews: Sunday on Full Measure: C...\n",
              "5    Sorry I don’t buy Rep. Tlaib’s tears. I have w...\n",
              "6    The LameStream Media is far beyond Fake News t...\n",
              "7                   Thank you! https://t.co/LANNJ7IfEl\n",
              "8    RT @GOPChairwoman: .@realDonaldTrump puts Amer...\n",
              "9    RT @GOPChairwoman: Since @realDonaldTrump was ...\n",
              "Name: Tweet, dtype: object"
            ]
          },
          "execution_count": 25,
          "metadata": {},
          "output_type": "execute_result"
        }
      ],
      "source": [
        "subset = data.iloc[0:10,0]\n",
        "subset"
      ]
    },
    {
      "cell_type": "code",
      "execution_count": null,
      "metadata": {
        "id": "U-YrLgEgeN1u"
      },
      "outputs": [],
      "source": [
        "def run_stopwords(t):\n",
        "    t = re.sub('\\s+(a|an|and|the|of|in|is|are|i|you|me|she|he|they|so|for|wa)(\\s+)', '\\2', t)\n",
        "    word_list = nltk.word_tokenize(re.sub(r\"[-()\\\"#/@;:<>{}`+=~|.!?,]\", \"\", t))\n",
        "    words = set(nltk.corpus.words.words())\n",
        "    stop_words = set(stopwords.words('english'))\n",
        "\n",
        "    word_list = [w for w in word_list if w in words and w.isalpha()]\n",
        "    filtered_sentence = ' '.join([w for w in word_list if not w in stop_words])\n",
        "    return (filtered_sentence)\n",
        "    \n",
        "\n",
        "\n",
        "def tweets_to_mat(t):\n",
        "    # convert to lowercase\n",
        "    t = t.str.lower()\n",
        "    \n",
        "    # clean dataset\n",
        "    regex = (r\"(https?:\\/\\/(?:www\\.|(?!www))[a-zA-Z0-9][a-zA-Z0-9-]+[a-zA-Z0-9]\\.[^\\s]{2,}\"\n",
        "             r\"www\\.[a-zA-Z0-9][a-zA-Z0-9-]+[a-zA-Z0-9]\\.[^\\s]{2,}|https?:\\/\\/(?:www\\.|(?!www))\"\n",
        "             r\"[a-zA-Z0-9]+\\.[^\\s]{2,}|www\\.[a-zA-Z0-9]+\\.[^\\s]{2,})|\\b(R|r)(T|t)\\b|\\b[0-9]+\\b\"\n",
        "             r\"|\\-\\-\")\n",
        "    clean = np.array([re.sub(regex, \"\", xi, flags=re.MULTILINE).strip() for xi in t])\n",
        "    \n",
        "    # lemmatizer\n",
        "    lemmatizer = WordNetLemmatizer()\n",
        "\n",
        "    word_list = np.array([nltk.word_tokenize(x) for x in clean])\n",
        "    \n",
        "    lemmatized_output = ([' '.join([lemmatizer.lemmatize(w) for w in ws]) for ws in word_list])\n",
        "     \n",
        "    # resp = Parallel(n_jobs=mp.cpu_count())(delayed(run_stopwords)(text) for text in lemmatized_output)\n",
        "    resp = Parallel(n_jobs=1)(delayed(run_stopwords)(text) for text in lemmatized_output)\n",
        "\n",
        "    vec = CountVectorizer() #freq\n",
        "    #vec = TfidfVectorizer() #tfidf\n",
        "    X = vec.fit_transform(resp)\n",
        "    df = pd.DataFrame(X.toarray(), columns=vec.get_feature_names())\n",
        "    return (df)\n",
        "    "
      ]
    },
    {
      "cell_type": "code",
      "execution_count": null,
      "metadata": {
        "id": "WvMn1opyeN1v"
      },
      "outputs": [],
      "source": [
        "### Full\n",
        "tw11 = data.loc[np.where(data[\"Date\"] == 11)]"
      ]
    },
    {
      "cell_type": "code",
      "execution_count": null,
      "metadata": {
        "id": "9jr2MNXWeN1w",
        "outputId": "5b9c2221-1417-4db8-9e26-ca312fdf2531"
      },
      "outputs": [
        {
          "name": "stderr",
          "output_type": "stream",
          "text": [
            "/usr/lib/python3/dist-packages/ipykernel_launcher.py:27: VisibleDeprecationWarning: Creating an ndarray from ragged nested sequences (which is a list-or-tuple of lists-or-tuples-or ndarrays with different lengths or shapes) is deprecated. If you meant to do this, you must specify 'dtype=object' when creating the ndarray\n"
          ]
        }
      ],
      "source": [
        "mtw11 = tweets_to_mat(tw11['Tweet'])"
      ]
    },
    {
      "cell_type": "code",
      "execution_count": null,
      "metadata": {
        "id": "d3BlRKXkeN1w"
      },
      "outputs": [],
      "source": [
        "### uncomment for testing (10 terms)\n",
        "cmtw11 = mtw11.iloc[:, np.argsort(np.sum(mtw11.values, axis=0))[::-1][0:10]]\n",
        "### full version\n",
        "#cmtw11 = mtw11.iloc[:,np.argsort(mtw11.sum(axis=0))[::-1]]"
      ]
    },
    {
      "cell_type": "code",
      "execution_count": null,
      "metadata": {
        "id": "SU-gzgrkeN1w",
        "outputId": "3a53922f-d90e-4ec7-ad73-a520be1eb657"
      },
      "outputs": [
        {
          "name": "stderr",
          "output_type": "stream",
          "text": [
            "/usr/lib/python3/dist-packages/ipykernel_launcher.py:1: SettingWithCopyWarning: \n",
            "A value is trying to be set on a copy of a slice from a DataFrame.\n",
            "Try using .loc[row_indexer,col_indexer] = value instead\n",
            "\n",
            "See the caveats in the documentation: https://pandas.pydata.org/pandas-docs/stable/user_guide/indexing.html#returning-a-view-versus-a-copy\n",
            "  \"\"\"Entry point for launching an IPython kernel.\n",
            "/home/rios/.local/lib/python3.6/site-packages/pandas/core/frame.py:3093: SettingWithCopyWarning: \n",
            "A value is trying to be set on a copy of a slice from a DataFrame\n",
            "\n",
            "See the caveats in the documentation: https://pandas.pydata.org/pandas-docs/stable/user_guide/indexing.html#returning-a-view-versus-a-copy\n",
            "  self._where(-key, value, inplace=True)\n",
            "/usr/lib/python3/dist-packages/ipykernel_launcher.py:2: SettingWithCopyWarning: \n",
            "A value is trying to be set on a copy of a slice from a DataFrame.\n",
            "Try using .loc[row_indexer,col_indexer] = value instead\n",
            "\n",
            "See the caveats in the documentation: https://pandas.pydata.org/pandas-docs/stable/user_guide/indexing.html#returning-a-view-versus-a-copy\n",
            "  \n",
            "/home/rios/.local/lib/python3.6/site-packages/pandas/core/frame.py:3093: SettingWithCopyWarning: \n",
            "A value is trying to be set on a copy of a slice from a DataFrame\n",
            "\n",
            "See the caveats in the documentation: https://pandas.pydata.org/pandas-docs/stable/user_guide/indexing.html#returning-a-view-versus-a-copy\n",
            "  self._where(-key, value, inplace=True)\n"
          ]
        }
      ],
      "source": [
        "cmtw11[cmtw11 > 1] = 1 "
      ]
    },
    {
      "cell_type": "code",
      "execution_count": null,
      "metadata": {
        "id": "pKS17M97eN1x"
      },
      "outputs": [],
      "source": [
        "cmtw11 = cmtw11.T.dot(cmtw11)\n",
        "np.fill_diagonal(cmtw11.values, 0)\n",
        "cmtw11.iloc[:,:] = np.triu(cmtw11)"
      ]
    },
    {
      "cell_type": "code",
      "execution_count": null,
      "metadata": {
        "id": "BDVJ2_YMeN1x",
        "outputId": "155ef653-7925-4b5b-abcd-9b41457cc86b"
      },
      "outputs": [
        {
          "data": {
            "text/html": [
              "<div>\n",
              "<style scoped>\n",
              "    .dataframe tbody tr th:only-of-type {\n",
              "        vertical-align: middle;\n",
              "    }\n",
              "\n",
              "    .dataframe tbody tr th {\n",
              "        vertical-align: top;\n",
              "    }\n",
              "\n",
              "    .dataframe thead th {\n",
              "        text-align: right;\n",
              "    }\n",
              "</style>\n",
              "<table border=\"1\" class=\"dataframe\">\n",
              "  <thead>\n",
              "    <tr style=\"text-align: right;\">\n",
              "      <th></th>\n",
              "      <th>ha</th>\n",
              "      <th>great</th>\n",
              "      <th>people</th>\n",
              "      <th>trump</th>\n",
              "      <th>democrat</th>\n",
              "      <th>president</th>\n",
              "      <th>get</th>\n",
              "      <th>new</th>\n",
              "      <th>news</th>\n",
              "      <th>never</th>\n",
              "    </tr>\n",
              "  </thead>\n",
              "  <tbody>\n",
              "    <tr>\n",
              "      <th>ha</th>\n",
              "      <td>0</td>\n",
              "      <td>7</td>\n",
              "      <td>6</td>\n",
              "      <td>5</td>\n",
              "      <td>0</td>\n",
              "      <td>3</td>\n",
              "      <td>3</td>\n",
              "      <td>4</td>\n",
              "      <td>7</td>\n",
              "      <td>4</td>\n",
              "    </tr>\n",
              "    <tr>\n",
              "      <th>great</th>\n",
              "      <td>0</td>\n",
              "      <td>0</td>\n",
              "      <td>8</td>\n",
              "      <td>1</td>\n",
              "      <td>2</td>\n",
              "      <td>4</td>\n",
              "      <td>0</td>\n",
              "      <td>3</td>\n",
              "      <td>1</td>\n",
              "      <td>3</td>\n",
              "    </tr>\n",
              "    <tr>\n",
              "      <th>people</th>\n",
              "      <td>0</td>\n",
              "      <td>0</td>\n",
              "      <td>0</td>\n",
              "      <td>5</td>\n",
              "      <td>3</td>\n",
              "      <td>1</td>\n",
              "      <td>2</td>\n",
              "      <td>2</td>\n",
              "      <td>5</td>\n",
              "      <td>6</td>\n",
              "    </tr>\n",
              "    <tr>\n",
              "      <th>trump</th>\n",
              "      <td>0</td>\n",
              "      <td>0</td>\n",
              "      <td>0</td>\n",
              "      <td>0</td>\n",
              "      <td>4</td>\n",
              "      <td>6</td>\n",
              "      <td>3</td>\n",
              "      <td>4</td>\n",
              "      <td>2</td>\n",
              "      <td>1</td>\n",
              "    </tr>\n",
              "    <tr>\n",
              "      <th>democrat</th>\n",
              "      <td>0</td>\n",
              "      <td>0</td>\n",
              "      <td>0</td>\n",
              "      <td>0</td>\n",
              "      <td>0</td>\n",
              "      <td>3</td>\n",
              "      <td>2</td>\n",
              "      <td>0</td>\n",
              "      <td>0</td>\n",
              "      <td>4</td>\n",
              "    </tr>\n",
              "    <tr>\n",
              "      <th>president</th>\n",
              "      <td>0</td>\n",
              "      <td>0</td>\n",
              "      <td>0</td>\n",
              "      <td>0</td>\n",
              "      <td>0</td>\n",
              "      <td>0</td>\n",
              "      <td>2</td>\n",
              "      <td>2</td>\n",
              "      <td>1</td>\n",
              "      <td>2</td>\n",
              "    </tr>\n",
              "    <tr>\n",
              "      <th>get</th>\n",
              "      <td>0</td>\n",
              "      <td>0</td>\n",
              "      <td>0</td>\n",
              "      <td>0</td>\n",
              "      <td>0</td>\n",
              "      <td>0</td>\n",
              "      <td>0</td>\n",
              "      <td>1</td>\n",
              "      <td>5</td>\n",
              "      <td>1</td>\n",
              "    </tr>\n",
              "    <tr>\n",
              "      <th>new</th>\n",
              "      <td>0</td>\n",
              "      <td>0</td>\n",
              "      <td>0</td>\n",
              "      <td>0</td>\n",
              "      <td>0</td>\n",
              "      <td>0</td>\n",
              "      <td>0</td>\n",
              "      <td>0</td>\n",
              "      <td>2</td>\n",
              "      <td>2</td>\n",
              "    </tr>\n",
              "    <tr>\n",
              "      <th>news</th>\n",
              "      <td>0</td>\n",
              "      <td>0</td>\n",
              "      <td>0</td>\n",
              "      <td>0</td>\n",
              "      <td>0</td>\n",
              "      <td>0</td>\n",
              "      <td>0</td>\n",
              "      <td>0</td>\n",
              "      <td>0</td>\n",
              "      <td>3</td>\n",
              "    </tr>\n",
              "    <tr>\n",
              "      <th>never</th>\n",
              "      <td>0</td>\n",
              "      <td>0</td>\n",
              "      <td>0</td>\n",
              "      <td>0</td>\n",
              "      <td>0</td>\n",
              "      <td>0</td>\n",
              "      <td>0</td>\n",
              "      <td>0</td>\n",
              "      <td>0</td>\n",
              "      <td>0</td>\n",
              "    </tr>\n",
              "  </tbody>\n",
              "</table>\n",
              "</div>"
            ],
            "text/plain": [
              "           ha  great  people  trump  democrat  president  get  new  news  \\\n",
              "ha          0      7       6      5         0          3    3    4     7   \n",
              "great       0      0       8      1         2          4    0    3     1   \n",
              "people      0      0       0      5         3          1    2    2     5   \n",
              "trump       0      0       0      0         4          6    3    4     2   \n",
              "democrat    0      0       0      0         0          3    2    0     0   \n",
              "president   0      0       0      0         0          0    2    2     1   \n",
              "get         0      0       0      0         0          0    0    1     5   \n",
              "new         0      0       0      0         0          0    0    0     2   \n",
              "news        0      0       0      0         0          0    0    0     0   \n",
              "never       0      0       0      0         0          0    0    0     0   \n",
              "\n",
              "           never  \n",
              "ha             4  \n",
              "great          3  \n",
              "people         6  \n",
              "trump          1  \n",
              "democrat       4  \n",
              "president      2  \n",
              "get            1  \n",
              "new            2  \n",
              "news           3  \n",
              "never          0  "
            ]
          },
          "execution_count": 40,
          "metadata": {},
          "output_type": "execute_result"
        }
      ],
      "source": [
        "cmtw11"
      ]
    }
  ],
  "metadata": {
    "kernelspec": {
      "display_name": "Python 3",
      "language": "python",
      "name": "python3"
    },
    "language_info": {
      "codemirror_mode": {
        "name": "ipython",
        "version": 3
      },
      "file_extension": ".py",
      "mimetype": "text/x-python",
      "name": "python",
      "nbconvert_exporter": "python",
      "pygments_lexer": "ipython3",
      "version": "3.6.9"
    },
    "colab": {
      "provenance": [],
      "include_colab_link": true
    }
  },
  "nbformat": 4,
  "nbformat_minor": 0
}